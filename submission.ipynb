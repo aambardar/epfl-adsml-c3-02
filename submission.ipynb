{
 "cells": [
  {
   "metadata": {},
   "cell_type": "markdown",
   "source": [
    "Academic Integrity and Learning Statement\n",
    "\n",
    "By submitting my work, I confirm that:\n",
    "\n",
    "1. The code, analysis, and documentation in this notebook are my own work and reflect my own understanding.\n",
    "2. I am prepared to explain all code and analysis included in this submission.\n",
    "\n",
    "If I used assistance (e.g., AI tools, tutors, or other resources), I have:\n",
    "\n",
    "- Clearly documented where and how external tools or resources were used in my solution.\n",
    "- Included a copy of the interaction (e.g., AI conversation or tutoring notes) in an appendix.\n",
    "\n",
    "I acknowledge that:\n",
    "\n",
    "- I may be asked to explain any part of my code or analysis during evaluation.\n",
    "- Misrepresenting assisted work as my own constitutes academic dishonesty and undermines my learning."
   ],
   "id": "71e8cdf0751690d6"
  },
  {
   "cell_type": "code",
   "id": "initial_id",
   "metadata": {
    "collapsed": true,
    "ExecuteTime": {
     "end_time": "2025-07-23T08:37:00.432159Z",
     "start_time": "2025-07-23T08:36:57.749558Z"
    }
   },
   "source": [
    "# Import core python libraries\n",
    "import numpy as np\n",
    "import os\n",
    "import pandas as pd\n",
    "from sklearn.model_selection import train_test_split\n",
    "from sklearn.metrics import mean_squared_error, r2_score\n",
    "\n",
    "# Import custom python files\n",
    "import proj_utils_logging as plogger\n",
    "import proj_utils_data_loader as dloader\n",
    "import proj_configs as pconfigs\n",
    "import proj_utils_plots as pplots\n",
    "import proj_utils_feat_engg as pfengg"
   ],
   "outputs": [],
   "execution_count": 1
  },
  {
   "metadata": {
    "ExecuteTime": {
     "end_time": "2025-07-23T08:37:04.928652Z",
     "start_time": "2025-07-23T08:37:04.908082Z"
    }
   },
   "cell_type": "code",
   "source": [
    "# Enable auto-reload extension\n",
    "%load_ext autoreload\n",
    "# Automatically reload all modules before executing code\n",
    "%autoreload 2"
   ],
   "id": "c46da9c6fd73de53",
   "outputs": [],
   "execution_count": 2
  },
  {
   "metadata": {
    "ExecuteTime": {
     "end_time": "2025-07-23T08:37:06.723307Z",
     "start_time": "2025-07-23T08:37:06.687034Z"
    }
   },
   "cell_type": "code",
   "source": [
    "# Check software specs\n",
    "dict_sw_version = {\n",
    "    'python': os.popen('python --version').read().strip(),\n",
    "    'numpy': np.__version__,\n",
    "    'pandas': pd.__version__\n",
    "}\n",
    "\n",
    "for key, value in dict_sw_version.items():\n",
    "    print(f'{pplots.beautify(key, 1)} version is: {pplots.beautify(value)}')\n"
   ],
   "id": "6d24b286ccfc7d22",
   "outputs": [
    {
     "name": "stdout",
     "output_type": "stream",
     "text": [
      "\u001B[1m\u001B[32mpython\u001B[0m version is: \u001B[1m\u001B[35mPython 3.13.5\u001B[0m\n",
      "\u001B[1m\u001B[32mnumpy\u001B[0m version is: \u001B[1m\u001B[35m2.1.3\u001B[0m\n",
      "\u001B[1m\u001B[32mpandas\u001B[0m version is: \u001B[1m\u001B[35m2.2.3\u001B[0m\n"
     ]
    }
   ],
   "execution_count": 3
  },
  {
   "metadata": {
    "ExecuteTime": {
     "end_time": "2025-07-23T08:37:10.895364Z",
     "start_time": "2025-07-23T08:37:10.874791Z"
    }
   },
   "cell_type": "code",
   "source": [
    "logger = plogger.get_logger()\n",
    "logger.debug(f\"Initialised logging for {pconfigs.PROJECT_NAME} project.\")"
   ],
   "id": "a31b0f710678697c",
   "outputs": [],
   "execution_count": 4
  },
  {
   "metadata": {},
   "cell_type": "markdown",
   "source": [
    "df_raw_train:\n",
    "df_raw_test:\n",
    "df_raw_all:\n",
    "df_raw_target:\n",
    "df_train:\n",
    "df_test:\n",
    "X_train:\n",
    "X_val:\n",
    "y_train:\n",
    "y_val:\n"
   ],
   "id": "d9f97a0ae3faea8a"
  },
  {
   "metadata": {
    "ExecuteTime": {
     "end_time": "2025-07-23T08:37:12.486213Z",
     "start_time": "2025-07-23T08:37:12.437956Z"
    }
   },
   "cell_type": "code",
   "source": [
    "df_raw_train = dloader.load_data(pconfigs.TRAIN_FILE, True)\n",
    "df_raw_test = dloader.load_data(pconfigs.TEST_FILE, True)"
   ],
   "id": "4e9d276c1b24d439",
   "outputs": [
    {
     "name": "stderr",
     "output_type": "stream",
     "text": [
      "[INFO][load_data] Loading data from path: data/house-prices.csv\n",
      "[INFO][load_data] Loaded train data with shape: (2430, 82)\n",
      "[INFO][load_data] Successfully loaded data from path: data/house-prices.csv\n",
      "[INFO][load_data] Loading data from path: data/house-prices-test.csv\n",
      "[INFO][load_data] Loaded train data with shape: (500, 81)\n",
      "[INFO][load_data] Successfully loaded data from path: data/house-prices-test.csv\n"
     ]
    }
   ],
   "execution_count": 5
  },
  {
   "metadata": {
    "ExecuteTime": {
     "end_time": "2025-07-23T08:37:13.585050Z",
     "start_time": "2025-07-23T08:37:13.556261Z"
    }
   },
   "cell_type": "code",
   "source": "df_raw_train.sample(3)",
   "id": "d3f3a25cad6101e2",
   "outputs": [
    {
     "data": {
      "text/plain": [
       "      Order        PID  MSSubClass MSZoning  LotFrontage  LotArea Street  \\\n",
       "8      2320  527108040          60       RL         72.0    10463   Pave   \n",
       "1423   1656  527356050          60       RL         80.0    10793   Pave   \n",
       "1553   2414  528218130          60       RL         58.0    17104   Pave   \n",
       "\n",
       "     Alley LotShape LandContour  ... PoolArea PoolQC Fence MiscFeature  \\\n",
       "8      NaN      IR1         HLS  ...        0    NaN   NaN         NaN   \n",
       "1423   NaN      Reg         Lvl  ...        0    NaN  GdWo         NaN   \n",
       "1553   NaN      IR1         Lvl  ...        0    NaN   NaN         NaN   \n",
       "\n",
       "     MiscVal MoSold YrSold SaleType  SaleCondition  SalePrice  \n",
       "8          0      6   2006      WD          Normal     239900  \n",
       "1423       0      4   2007      WD          Normal     152000  \n",
       "1553       0      9   2006      New        Partial     179665  \n",
       "\n",
       "[3 rows x 82 columns]"
      ],
      "text/html": [
       "<div>\n",
       "<style scoped>\n",
       "    .dataframe tbody tr th:only-of-type {\n",
       "        vertical-align: middle;\n",
       "    }\n",
       "\n",
       "    .dataframe tbody tr th {\n",
       "        vertical-align: top;\n",
       "    }\n",
       "\n",
       "    .dataframe thead th {\n",
       "        text-align: right;\n",
       "    }\n",
       "</style>\n",
       "<table border=\"1\" class=\"dataframe\">\n",
       "  <thead>\n",
       "    <tr style=\"text-align: right;\">\n",
       "      <th></th>\n",
       "      <th>Order</th>\n",
       "      <th>PID</th>\n",
       "      <th>MSSubClass</th>\n",
       "      <th>MSZoning</th>\n",
       "      <th>LotFrontage</th>\n",
       "      <th>LotArea</th>\n",
       "      <th>Street</th>\n",
       "      <th>Alley</th>\n",
       "      <th>LotShape</th>\n",
       "      <th>LandContour</th>\n",
       "      <th>...</th>\n",
       "      <th>PoolArea</th>\n",
       "      <th>PoolQC</th>\n",
       "      <th>Fence</th>\n",
       "      <th>MiscFeature</th>\n",
       "      <th>MiscVal</th>\n",
       "      <th>MoSold</th>\n",
       "      <th>YrSold</th>\n",
       "      <th>SaleType</th>\n",
       "      <th>SaleCondition</th>\n",
       "      <th>SalePrice</th>\n",
       "    </tr>\n",
       "  </thead>\n",
       "  <tbody>\n",
       "    <tr>\n",
       "      <th>8</th>\n",
       "      <td>2320</td>\n",
       "      <td>527108040</td>\n",
       "      <td>60</td>\n",
       "      <td>RL</td>\n",
       "      <td>72.0</td>\n",
       "      <td>10463</td>\n",
       "      <td>Pave</td>\n",
       "      <td>NaN</td>\n",
       "      <td>IR1</td>\n",
       "      <td>HLS</td>\n",
       "      <td>...</td>\n",
       "      <td>0</td>\n",
       "      <td>NaN</td>\n",
       "      <td>NaN</td>\n",
       "      <td>NaN</td>\n",
       "      <td>0</td>\n",
       "      <td>6</td>\n",
       "      <td>2006</td>\n",
       "      <td>WD</td>\n",
       "      <td>Normal</td>\n",
       "      <td>239900</td>\n",
       "    </tr>\n",
       "    <tr>\n",
       "      <th>1423</th>\n",
       "      <td>1656</td>\n",
       "      <td>527356050</td>\n",
       "      <td>60</td>\n",
       "      <td>RL</td>\n",
       "      <td>80.0</td>\n",
       "      <td>10793</td>\n",
       "      <td>Pave</td>\n",
       "      <td>NaN</td>\n",
       "      <td>Reg</td>\n",
       "      <td>Lvl</td>\n",
       "      <td>...</td>\n",
       "      <td>0</td>\n",
       "      <td>NaN</td>\n",
       "      <td>GdWo</td>\n",
       "      <td>NaN</td>\n",
       "      <td>0</td>\n",
       "      <td>4</td>\n",
       "      <td>2007</td>\n",
       "      <td>WD</td>\n",
       "      <td>Normal</td>\n",
       "      <td>152000</td>\n",
       "    </tr>\n",
       "    <tr>\n",
       "      <th>1553</th>\n",
       "      <td>2414</td>\n",
       "      <td>528218130</td>\n",
       "      <td>60</td>\n",
       "      <td>RL</td>\n",
       "      <td>58.0</td>\n",
       "      <td>17104</td>\n",
       "      <td>Pave</td>\n",
       "      <td>NaN</td>\n",
       "      <td>IR1</td>\n",
       "      <td>Lvl</td>\n",
       "      <td>...</td>\n",
       "      <td>0</td>\n",
       "      <td>NaN</td>\n",
       "      <td>NaN</td>\n",
       "      <td>NaN</td>\n",
       "      <td>0</td>\n",
       "      <td>9</td>\n",
       "      <td>2006</td>\n",
       "      <td>New</td>\n",
       "      <td>Partial</td>\n",
       "      <td>179665</td>\n",
       "    </tr>\n",
       "  </tbody>\n",
       "</table>\n",
       "<p>3 rows × 82 columns</p>\n",
       "</div>"
      ]
     },
     "execution_count": 6,
     "metadata": {},
     "output_type": "execute_result"
    }
   ],
   "execution_count": 6
  },
  {
   "metadata": {
    "ExecuteTime": {
     "end_time": "2025-07-23T08:37:14.598411Z",
     "start_time": "2025-07-23T08:37:14.569260Z"
    }
   },
   "cell_type": "code",
   "source": [
    "insignificant_cols = ['Order', 'PID']\n",
    "target_col = 'SalePrice'\n",
    "ignorables_cols = insignificant_cols + [target_col]\n",
    "ordinal_cols = ['LotShape', 'Utilities', 'LandSlope', 'OverallQual', 'OverallCond', 'ExterQual', 'ExterCond', 'BsmtQual', 'BsmtCond', 'BsmtExposure', 'BsmtFinType1', 'BsmtFinType2', 'HeatingQC', 'KitchenQual', 'FireplaceQu', 'GarageQual', 'GarageCond', 'PoolQC']\n",
    "temporal_cols_name_pattern = ['Yr', 'Year']\n",
    "low_cardinality_cols = [cname for cname in df_raw_train.columns\n",
    "                        if df_raw_train[cname].nunique() < 10 and\n",
    "                        df_raw_train[cname].dtype == \"object\"]"
   ],
   "id": "6edf5a9a26a9e843",
   "outputs": [],
   "execution_count": 7
  },
  {
   "metadata": {
    "ExecuteTime": {
     "end_time": "2025-07-23T08:37:15.372056Z",
     "start_time": "2025-07-23T08:37:15.329610Z"
    }
   },
   "cell_type": "code",
   "source": [
    "df_raw_all, df_raw_target = dloader.merge_train_test_data(\n",
    "    df_raw_train,\n",
    "    df_raw_test,\n",
    "    insignificant_cols,\n",
    "    target_col\n",
    ")\n",
    "\n",
    "# Split into train and test\n",
    "df_train = df_raw_all[df_raw_all['is_train'] == 1].iloc[:, :-1]\n",
    "df_test = df_raw_all[df_raw_all['is_train'] == 0].iloc[:, :-1]\n",
    "\n",
    "# Classify features\n",
    "feature_categories = pfengg.classify_columns(\n",
    "    df=df_train,\n",
    "    n_cat_threshold=pconfigs.CATEGORICAL_CARDINALITY_THRESHOLD_ABS_VAL,\n",
    "    threshold_type=pconfigs.CATEGORICAL_CARDINALITY_THRESHOLD_TYPE_ABS,\n",
    "    cols_to_ignore=ignorables_cols,\n",
    "    temporal_cols_name_pattern=temporal_cols_name_pattern,\n",
    "    ordinal_cols=ordinal_cols\n",
    ")\n",
    "\n",
    "# Get column categories\n",
    "(cols_num_continuous, n_cols_num_continuous, cols_num_discrete, n_cols_num_discrete,\n",
    " cols_cat_nominal, n_cols_cat_nominal, cols_cat_ordinal, n_cols_cat_ordinal,\n",
    " cols_object, n_cols_object, cols_temporal, n_cols_temporal,\n",
    " cols_binary, n_cols_binary, cols_low_cardinality, n_cols_low_cardinality) = pfengg.get_cols_as_tuple(feature_categories)\n"
   ],
   "id": "e8ab6d53add982cc",
   "outputs": [
    {
     "name": "stderr",
     "output_type": "stream",
     "text": [
      "[INFO][merge_train_test_data] Merging train data shape: (2430, 82) and test data shape: (500, 81)\n",
      "[INFO][merge_train_test_data] Dropped columns: ['Order', 'PID']\n",
      "[INFO][merge_train_test_data] Merged data shape: (2930, 80)\n",
      "[WARNING][classify_columns] Matching Col Type Not Found for: MasVnrType, so casting as Object type.\n",
      "[WARNING][classify_columns] Matching Col Type Not Found for: Electrical, so casting as Object type.\n",
      "[WARNING][classify_columns] Matching Col Type Not Found for: GarageType, so casting as Object type.\n",
      "[WARNING][classify_columns] Matching Col Type Not Found for: GarageFinish, so casting as Object type.\n",
      "[WARNING][classify_columns] Matching Col Type Not Found for: Fence, so casting as Object type.\n",
      "[WARNING][classify_columns] Matching Col Type Not Found for: MiscFeature, so casting as Object type.\n",
      "[INFO][classify_columns] Feature Type Summary:\n",
      "[INFO][classify_columns] Numerical_Continuous Features (21):\n",
      "[INFO][classify_columns] ['LotFrontage', 'LotArea', 'MasVnrArea', 'BsmtFinSF1', 'BsmtFinSF2', 'BsmtUnfSF', 'TotalBsmtSF', '1stFlrSF', '2ndFlrSF', 'LowQualFinSF', 'GrLivArea', 'BsmtFullBath', 'BsmtHalfBath', 'GarageCars', 'GarageArea', 'WoodDeckSF', 'OpenPorchSF', 'EnclosedPorch', '3SsnPorch', 'ScreenPorch', 'MiscVal']\n",
      "[INFO][classify_columns] Numerical_Discrete Features (9):\n",
      "[INFO][classify_columns] ['MSSubClass', 'FullBath', 'HalfBath', 'BedroomAbvGr', 'KitchenAbvGr', 'TotRmsAbvGrd', 'Fireplaces', 'PoolArea', 'MoSold']\n",
      "[INFO][classify_columns] Categorical_Nominal Features (17):\n",
      "[INFO][classify_columns] ['MSZoning', 'LandContour', 'LotConfig', 'Condition1', 'Condition2', 'BldgType', 'HouseStyle', 'RoofStyle', 'RoofMatl', 'Exterior1st', 'Exterior2nd', 'Foundation', 'Heating', 'Functional', 'PavedDrive', 'SaleType', 'SaleCondition']\n",
      "[INFO][classify_columns] Categorical_Ordinal Features (18):\n",
      "[INFO][classify_columns] ['LotShape', 'Utilities', 'LandSlope', 'OverallQual', 'OverallCond', 'ExterQual', 'ExterCond', 'BsmtQual', 'BsmtCond', 'BsmtExposure', 'BsmtFinType1', 'BsmtFinType2', 'HeatingQC', 'KitchenQual', 'FireplaceQu', 'GarageQual', 'GarageCond', 'PoolQC']\n",
      "[INFO][classify_columns] Object Features (7):\n",
      "[INFO][classify_columns] ['Neighborhood', 'MasVnrType', 'Electrical', 'GarageType', 'GarageFinish', 'Fence', 'MiscFeature']\n",
      "[INFO][classify_columns] Temporal Features (4):\n",
      "[INFO][classify_columns] ['YearBuilt', 'YearRemodAdd', 'GarageYrBlt', 'YrSold']\n",
      "[INFO][classify_columns] Binary Features (3):\n",
      "[INFO][classify_columns] ['Street', 'Alley', 'CentralAir']\n",
      "[INFO][classify_columns] Low_Cardinality Features (42):\n",
      "[INFO][classify_columns] ['MSZoning', 'Street', 'Alley', 'LotShape', 'LandContour', 'Utilities', 'LotConfig', 'LandSlope', 'Condition1', 'Condition2', 'BldgType', 'HouseStyle', 'RoofStyle', 'RoofMatl', 'Exterior1st', 'Exterior2nd', 'MasVnrType', 'ExterQual', 'ExterCond', 'Foundation', 'BsmtQual', 'BsmtCond', 'BsmtExposure', 'BsmtFinType1', 'BsmtFinType2', 'Heating', 'HeatingQC', 'CentralAir', 'Electrical', 'KitchenQual', 'Functional', 'FireplaceQu', 'GarageType', 'GarageFinish', 'GarageQual', 'GarageCond', 'PavedDrive', 'PoolQC', 'Fence', 'MiscFeature', 'SaleType', 'SaleCondition']\n"
     ]
    }
   ],
   "execution_count": 8
  },
  {
   "metadata": {
    "ExecuteTime": {
     "end_time": "2025-07-23T08:37:16.340678Z",
     "start_time": "2025-07-23T08:37:16.317678Z"
    }
   },
   "cell_type": "code",
   "source": [
    "n_total = df_train.shape[1] - len(ignorables_cols)\n",
    "\n",
    "print(f\"=\"*80)\n",
    "print(f\"Total raw columns = {pplots.beautify(str(len(df_train.columns)))} \\nNumerical Continuous = {pplots.beautify(n_cols_num_continuous)} \\nNumerical Discrete = {pplots.beautify(n_cols_num_discrete)} \\nCategorical Nominal = {pplots.beautify(n_cols_cat_nominal)} \\nCategorical Ordinal = {pplots.beautify(n_cols_cat_ordinal)} \\nObject/String = {pplots.beautify(n_cols_object)} \\nTemporal = {pplots.beautify(n_cols_temporal)} \\nBinary = {pplots.beautify(n_cols_binary)}\")\n",
    "\n",
    "print(f\"=\"*80)\n",
    "print(f\"Any inconsistencies detected?[True/False] = {pplots.beautify('True', 3) if n_total != len(df_train.columns) - len(ignorables_cols) else pplots.beautify('False', 1)}\")\n",
    "print(f'='*80)"
   ],
   "id": "d0f4688bf0fb84bd",
   "outputs": [
    {
     "name": "stdout",
     "output_type": "stream",
     "text": [
      "================================================================================\n",
      "Total raw columns = \u001B[1m\u001B[35m79\u001B[0m \n",
      "Numerical Continuous = \u001B[1m\u001B[35m21\u001B[0m \n",
      "Numerical Discrete = \u001B[1m\u001B[35m9\u001B[0m \n",
      "Categorical Nominal = \u001B[1m\u001B[35m17\u001B[0m \n",
      "Categorical Ordinal = \u001B[1m\u001B[35m18\u001B[0m \n",
      "Object/String = \u001B[1m\u001B[35m7\u001B[0m \n",
      "Temporal = \u001B[1m\u001B[35m4\u001B[0m \n",
      "Binary = \u001B[1m\u001B[35m3\u001B[0m\n",
      "================================================================================\n",
      "Any inconsistencies detected?[True/False] = \u001B[1m\u001B[32mFalse\u001B[0m\n",
      "================================================================================\n"
     ]
    }
   ],
   "execution_count": 9
  },
  {
   "metadata": {
    "ExecuteTime": {
     "end_time": "2025-07-23T08:37:17.449363Z",
     "start_time": "2025-07-23T08:37:17.426718Z"
    }
   },
   "cell_type": "code",
   "source": [
    "df_raw_all, df_raw_target = dloader.merge_train_test_data(df_raw_train, df_raw_test, insignificant_cols, target_col)\n",
    "df_raw_all.shape, df_raw_target.shape"
   ],
   "id": "654f96a21abe775e",
   "outputs": [
    {
     "name": "stderr",
     "output_type": "stream",
     "text": [
      "[INFO][merge_train_test_data] Merging train data shape: (2430, 83) and test data shape: (500, 82)\n",
      "[INFO][merge_train_test_data] Dropped columns: ['Order', 'PID']\n",
      "[INFO][merge_train_test_data] Merged data shape: (2930, 80)\n"
     ]
    },
    {
     "data": {
      "text/plain": [
       "((2930, 80), (2430,))"
      ]
     },
     "execution_count": 10,
     "metadata": {},
     "output_type": "execute_result"
    }
   ],
   "execution_count": 10
  },
  {
   "metadata": {
    "ExecuteTime": {
     "end_time": "2025-07-23T08:37:18.522713Z",
     "start_time": "2025-07-23T08:37:18.499601Z"
    }
   },
   "cell_type": "code",
   "source": [
    "X_train, X_val, y_train, y_val = train_test_split(\n",
    "    df_train,\n",
    "    df_raw_target,\n",
    "    test_size=pconfigs.VALIDATION_SIZE,\n",
    "    random_state=pconfigs.RANDOM_STATE\n",
    ")"
   ],
   "id": "e2bde6206601a714",
   "outputs": [],
   "execution_count": 11
  },
  {
   "metadata": {
    "ExecuteTime": {
     "end_time": "2025-07-23T08:37:19.488509Z",
     "start_time": "2025-07-23T08:37:19.467011Z"
    }
   },
   "cell_type": "code",
   "source": [
    "# Calculate the number of NaN values for each column\n",
    "nan_counts = df_train.isna().sum()\n",
    "\n",
    "# Filter only columns that have NaN values and sort by the number of NaNs\n",
    "cols_with_nans = nan_counts[nan_counts > 0].index.tolist()\n",
    "print(f\"Columns with NaNs: = {pplots.beautify(str(len(cols_with_nans)))}/{pplots.beautify(n_total)}\")\n",
    "print(f\"And they are: {cols_with_nans}\")"
   ],
   "id": "37ae4437ee9b5313",
   "outputs": [
    {
     "name": "stdout",
     "output_type": "stream",
     "text": [
      "Columns with NaNs: = \u001B[1m\u001B[35m27\u001B[0m/\u001B[1m\u001B[35m76\u001B[0m\n",
      "And they are: ['LotFrontage', 'Alley', 'MasVnrType', 'MasVnrArea', 'BsmtQual', 'BsmtCond', 'BsmtExposure', 'BsmtFinType1', 'BsmtFinSF1', 'BsmtFinType2', 'BsmtFinSF2', 'BsmtUnfSF', 'TotalBsmtSF', 'Electrical', 'BsmtFullBath', 'BsmtHalfBath', 'FireplaceQu', 'GarageType', 'GarageYrBlt', 'GarageFinish', 'GarageCars', 'GarageArea', 'GarageQual', 'GarageCond', 'PoolQC', 'Fence', 'MiscFeature']\n"
     ]
    }
   ],
   "execution_count": 12
  },
  {
   "metadata": {
    "ExecuteTime": {
     "end_time": "2025-07-23T08:37:20.404770Z",
     "start_time": "2025-07-23T08:37:20.378618Z"
    }
   },
   "cell_type": "code",
   "source": "df_cardinality = pfengg.get_cardinality_df(df_train)",
   "id": "11e8333c6ef675a6",
   "outputs": [],
   "execution_count": 13
  },
  {
   "metadata": {
    "ExecuteTime": {
     "end_time": "2025-07-23T08:37:21.227713Z",
     "start_time": "2025-07-23T08:37:21.203199Z"
    }
   },
   "cell_type": "code",
   "source": "df_cardinality",
   "id": "53b28a112abc4332",
   "outputs": [
    {
     "data": {
      "text/plain": [
       "                    col_name  notnull_pct  null_pct  unique_pct\n",
       "MSSubClass        MSSubClass        1.000     0.000       0.007\n",
       "MSZoning            MSZoning        1.000     0.000       0.003\n",
       "LotFrontage      LotFrontage        0.827     0.173       0.050\n",
       "LotArea              LotArea        1.000     0.000       0.698\n",
       "Street                Street        1.000     0.000       0.001\n",
       "...                      ...          ...       ...         ...\n",
       "MiscVal              MiscVal        1.000     0.000       0.014\n",
       "MoSold                MoSold        1.000     0.000       0.005\n",
       "YrSold                YrSold        1.000     0.000       0.002\n",
       "SaleType            SaleType        1.000     0.000       0.004\n",
       "SaleCondition  SaleCondition        1.000     0.000       0.002\n",
       "\n",
       "[79 rows x 4 columns]"
      ],
      "text/html": [
       "<div>\n",
       "<style scoped>\n",
       "    .dataframe tbody tr th:only-of-type {\n",
       "        vertical-align: middle;\n",
       "    }\n",
       "\n",
       "    .dataframe tbody tr th {\n",
       "        vertical-align: top;\n",
       "    }\n",
       "\n",
       "    .dataframe thead th {\n",
       "        text-align: right;\n",
       "    }\n",
       "</style>\n",
       "<table border=\"1\" class=\"dataframe\">\n",
       "  <thead>\n",
       "    <tr style=\"text-align: right;\">\n",
       "      <th></th>\n",
       "      <th>col_name</th>\n",
       "      <th>notnull_pct</th>\n",
       "      <th>null_pct</th>\n",
       "      <th>unique_pct</th>\n",
       "    </tr>\n",
       "  </thead>\n",
       "  <tbody>\n",
       "    <tr>\n",
       "      <th>MSSubClass</th>\n",
       "      <td>MSSubClass</td>\n",
       "      <td>1.000</td>\n",
       "      <td>0.000</td>\n",
       "      <td>0.007</td>\n",
       "    </tr>\n",
       "    <tr>\n",
       "      <th>MSZoning</th>\n",
       "      <td>MSZoning</td>\n",
       "      <td>1.000</td>\n",
       "      <td>0.000</td>\n",
       "      <td>0.003</td>\n",
       "    </tr>\n",
       "    <tr>\n",
       "      <th>LotFrontage</th>\n",
       "      <td>LotFrontage</td>\n",
       "      <td>0.827</td>\n",
       "      <td>0.173</td>\n",
       "      <td>0.050</td>\n",
       "    </tr>\n",
       "    <tr>\n",
       "      <th>LotArea</th>\n",
       "      <td>LotArea</td>\n",
       "      <td>1.000</td>\n",
       "      <td>0.000</td>\n",
       "      <td>0.698</td>\n",
       "    </tr>\n",
       "    <tr>\n",
       "      <th>Street</th>\n",
       "      <td>Street</td>\n",
       "      <td>1.000</td>\n",
       "      <td>0.000</td>\n",
       "      <td>0.001</td>\n",
       "    </tr>\n",
       "    <tr>\n",
       "      <th>...</th>\n",
       "      <td>...</td>\n",
       "      <td>...</td>\n",
       "      <td>...</td>\n",
       "      <td>...</td>\n",
       "    </tr>\n",
       "    <tr>\n",
       "      <th>MiscVal</th>\n",
       "      <td>MiscVal</td>\n",
       "      <td>1.000</td>\n",
       "      <td>0.000</td>\n",
       "      <td>0.014</td>\n",
       "    </tr>\n",
       "    <tr>\n",
       "      <th>MoSold</th>\n",
       "      <td>MoSold</td>\n",
       "      <td>1.000</td>\n",
       "      <td>0.000</td>\n",
       "      <td>0.005</td>\n",
       "    </tr>\n",
       "    <tr>\n",
       "      <th>YrSold</th>\n",
       "      <td>YrSold</td>\n",
       "      <td>1.000</td>\n",
       "      <td>0.000</td>\n",
       "      <td>0.002</td>\n",
       "    </tr>\n",
       "    <tr>\n",
       "      <th>SaleType</th>\n",
       "      <td>SaleType</td>\n",
       "      <td>1.000</td>\n",
       "      <td>0.000</td>\n",
       "      <td>0.004</td>\n",
       "    </tr>\n",
       "    <tr>\n",
       "      <th>SaleCondition</th>\n",
       "      <td>SaleCondition</td>\n",
       "      <td>1.000</td>\n",
       "      <td>0.000</td>\n",
       "      <td>0.002</td>\n",
       "    </tr>\n",
       "  </tbody>\n",
       "</table>\n",
       "<p>79 rows × 4 columns</p>\n",
       "</div>"
      ]
     },
     "execution_count": 14,
     "metadata": {},
     "output_type": "execute_result"
    }
   ],
   "execution_count": 14
  },
  {
   "metadata": {
    "ExecuteTime": {
     "end_time": "2025-07-23T08:37:22.386615Z",
     "start_time": "2025-07-23T08:37:22.139087Z"
    }
   },
   "cell_type": "code",
   "source": "pplots.plot_cardinality(df_cardinality, pconfigs.CATEGORICAL_CARDINALITY_THRESHOLD_ABS_VAL, threshold_used=pconfigs.CATEGORICAL_CARDINALITY_THRESHOLD_TYPE_ABS, type_of_cols='all', figsize=(20, 6))",
   "id": "804341bb4547354a",
   "outputs": [
    {
     "name": "stdout",
     "output_type": "stream",
     "text": [
      "Saving figure to /Users/ambikasadhu/Workbench/pycharm/epfl-adsml-c3-02/plots/plot_cardinality_all_20250723_183722_238.png\n"
     ]
    },
    {
     "data": {
      "text/plain": [
       "/Users/ambikasadhu/Workbench/pycharm/epfl-adsml-c3-02/plots/plot_cardinality_all_20250723_183722_238.png"
      ],
      "text/html": [
       "<a href='/Users/ambikasadhu/Workbench/pycharm/epfl-adsml-c3-02/plots/plot_cardinality_all_20250723_183722_238.png' target='_blank'>/Users/ambikasadhu/Workbench/pycharm/epfl-adsml-c3-02/plots/plot_cardinality_all_20250723_183722_238.png</a><br>"
      ]
     },
     "metadata": {},
     "output_type": "display_data"
    }
   ],
   "execution_count": 15
  },
  {
   "metadata": {
    "ExecuteTime": {
     "end_time": "2025-07-23T08:37:23.222171Z",
     "start_time": "2025-07-23T08:37:23.117742Z"
    }
   },
   "cell_type": "code",
   "source": [
    "# Zoom into cols having NaNs only\n",
    "pplots.plot_cardinality(df_cardinality[df_cardinality['col_name'].isin(cols_with_nans)], pconfigs.CATEGORICAL_CARDINALITY_THRESHOLD_ABS_VAL, threshold_used=pconfigs.CATEGORICAL_CARDINALITY_THRESHOLD_TYPE_ABS, type_of_cols=\"NaN\", figsize=(10, 6))"
   ],
   "id": "e2e3347129e57abc",
   "outputs": [
    {
     "name": "stdout",
     "output_type": "stream",
     "text": [
      "Saving figure to /Users/ambikasadhu/Workbench/pycharm/epfl-adsml-c3-02/plots/plot_cardinality_NaN_20250723_183723_162.png\n"
     ]
    },
    {
     "data": {
      "text/plain": [
       "/Users/ambikasadhu/Workbench/pycharm/epfl-adsml-c3-02/plots/plot_cardinality_NaN_20250723_183723_162.png"
      ],
      "text/html": [
       "<a href='/Users/ambikasadhu/Workbench/pycharm/epfl-adsml-c3-02/plots/plot_cardinality_NaN_20250723_183723_162.png' target='_blank'>/Users/ambikasadhu/Workbench/pycharm/epfl-adsml-c3-02/plots/plot_cardinality_NaN_20250723_183723_162.png</a><br>"
      ]
     },
     "metadata": {},
     "output_type": "display_data"
    }
   ],
   "execution_count": 16
  },
  {
   "metadata": {
    "ExecuteTime": {
     "end_time": "2025-07-23T08:37:36.286619Z",
     "start_time": "2025-07-23T08:37:36.260153Z"
    }
   },
   "cell_type": "code",
   "source": "df_train[cols_num_continuous].isnull().sum().sort_values(ascending=False)",
   "id": "5a29edbf7dd56d0c",
   "outputs": [
    {
     "data": {
      "text/plain": [
       "LotFrontage      420\n",
       "MasVnrArea        20\n",
       "BsmtFullBath       2\n",
       "BsmtHalfBath       2\n",
       "BsmtFinSF1         1\n",
       "BsmtFinSF2         1\n",
       "BsmtUnfSF          1\n",
       "TotalBsmtSF        1\n",
       "GarageCars         1\n",
       "GarageArea         1\n",
       "WoodDeckSF         0\n",
       "ScreenPorch        0\n",
       "3SsnPorch          0\n",
       "EnclosedPorch      0\n",
       "OpenPorchSF        0\n",
       "GrLivArea          0\n",
       "LotArea            0\n",
       "LowQualFinSF       0\n",
       "2ndFlrSF           0\n",
       "1stFlrSF           0\n",
       "MiscVal            0\n",
       "dtype: int64"
      ]
     },
     "execution_count": 17,
     "metadata": {},
     "output_type": "execute_result"
    }
   ],
   "execution_count": 17
  },
  {
   "metadata": {
    "ExecuteTime": {
     "end_time": "2025-07-23T08:37:42.323801Z",
     "start_time": "2025-07-23T08:37:42.293269Z"
    }
   },
   "cell_type": "code",
   "source": [
    "# Creating a copy of the raw data to impute missing values for plotting purposes only (as NaNs are not plotted)\n",
    "df_imputed_for_plots = df_train.copy()\n",
    "df_imputed_for_plots[cols_num_continuous] = df_imputed_for_plots[cols_num_continuous].fillna(0)\n",
    "most_frequent = df_imputed_for_plots[cols_num_discrete].mode().iloc[0]\n",
    "df_imputed_for_plots[cols_num_discrete] = df_imputed_for_plots[cols_num_discrete].fillna(most_frequent)"
   ],
   "id": "ef2ca147da0befc5",
   "outputs": [],
   "execution_count": 18
  },
  {
   "metadata": {
    "ExecuteTime": {
     "end_time": "2025-07-23T08:37:47.855279Z",
     "start_time": "2025-07-23T08:37:46.843226Z"
    }
   },
   "cell_type": "code",
   "source": [
    "# correlation_plot = plot_correlation_with_demand(df, save_path=\"correlation_plot.png\")\n",
    "correlation_plot = pplots.plot_correlation_with_target(pd.concat([df_imputed_for_plots[cols_num_continuous], df_raw_target], axis=1), target_col)"
   ],
   "id": "6e372acf601b0ea0",
   "outputs": [
    {
     "name": "stdout",
     "output_type": "stream",
     "text": [
      "Saving figure to /Users/ambikasadhu/Workbench/pycharm/epfl-adsml-c3-02/plots/plot_corr_with_SalePrice_20250723_183746_895.png\n"
     ]
    },
    {
     "data": {
      "text/plain": [
       "/Users/ambikasadhu/Workbench/pycharm/epfl-adsml-c3-02/plots/plot_corr_with_SalePrice_20250723_183746_895.png"
      ],
      "text/html": [
       "<a href='/Users/ambikasadhu/Workbench/pycharm/epfl-adsml-c3-02/plots/plot_corr_with_SalePrice_20250723_183746_895.png' target='_blank'>/Users/ambikasadhu/Workbench/pycharm/epfl-adsml-c3-02/plots/plot_corr_with_SalePrice_20250723_183746_895.png</a><br>"
      ]
     },
     "metadata": {},
     "output_type": "display_data"
    }
   ],
   "execution_count": 19
  },
  {
   "metadata": {
    "ExecuteTime": {
     "end_time": "2025-07-23T08:56:54.954446Z",
     "start_time": "2025-07-23T08:56:53.754461Z"
    }
   },
   "cell_type": "code",
   "source": "pplots.plot_numerical_distribution(df_imputed_for_plots, cols_num_continuous)",
   "id": "6e705f9717f2acaf",
   "outputs": [
    {
     "name": "stdout",
     "output_type": "stream",
     "text": [
      "Saving figure to /Users/ambikasadhu/Workbench/pycharm/epfl-adsml-c3-02/plots/plot_num_distro_21feats_1-of-4_20250723_185654_088.png\n"
     ]
    },
    {
     "data": {
      "text/plain": [
       "/Users/ambikasadhu/Workbench/pycharm/epfl-adsml-c3-02/plots/plot_num_distro_21feats_1-of-4_20250723_185654_088.png"
      ],
      "text/html": [
       "<a href='/Users/ambikasadhu/Workbench/pycharm/epfl-adsml-c3-02/plots/plot_num_distro_21feats_1-of-4_20250723_185654_088.png' target='_blank'>/Users/ambikasadhu/Workbench/pycharm/epfl-adsml-c3-02/plots/plot_num_distro_21feats_1-of-4_20250723_185654_088.png</a><br>"
      ]
     },
     "metadata": {},
     "output_type": "display_data"
    },
    {
     "name": "stdout",
     "output_type": "stream",
     "text": [
      "Saving figure to /Users/ambikasadhu/Workbench/pycharm/epfl-adsml-c3-02/plots/plot_num_distro_21feats_2-of-4_20250723_185654_362.png\n"
     ]
    },
    {
     "data": {
      "text/plain": [
       "/Users/ambikasadhu/Workbench/pycharm/epfl-adsml-c3-02/plots/plot_num_distro_21feats_2-of-4_20250723_185654_362.png"
      ],
      "text/html": [
       "<a href='/Users/ambikasadhu/Workbench/pycharm/epfl-adsml-c3-02/plots/plot_num_distro_21feats_2-of-4_20250723_185654_362.png' target='_blank'>/Users/ambikasadhu/Workbench/pycharm/epfl-adsml-c3-02/plots/plot_num_distro_21feats_2-of-4_20250723_185654_362.png</a><br>"
      ]
     },
     "metadata": {},
     "output_type": "display_data"
    },
    {
     "name": "stdout",
     "output_type": "stream",
     "text": [
      "Saving figure to /Users/ambikasadhu/Workbench/pycharm/epfl-adsml-c3-02/plots/plot_num_distro_21feats_3-of-4_20250723_185654_647.png\n"
     ]
    },
    {
     "data": {
      "text/plain": [
       "/Users/ambikasadhu/Workbench/pycharm/epfl-adsml-c3-02/plots/plot_num_distro_21feats_3-of-4_20250723_185654_647.png"
      ],
      "text/html": [
       "<a href='/Users/ambikasadhu/Workbench/pycharm/epfl-adsml-c3-02/plots/plot_num_distro_21feats_3-of-4_20250723_185654_647.png' target='_blank'>/Users/ambikasadhu/Workbench/pycharm/epfl-adsml-c3-02/plots/plot_num_distro_21feats_3-of-4_20250723_185654_647.png</a><br>"
      ]
     },
     "metadata": {},
     "output_type": "display_data"
    },
    {
     "name": "stdout",
     "output_type": "stream",
     "text": [
      "Saving figure to /Users/ambikasadhu/Workbench/pycharm/epfl-adsml-c3-02/plots/plot_num_distro_21feats_4-of-4_20250723_185654_874.png\n"
     ]
    },
    {
     "data": {
      "text/plain": [
       "/Users/ambikasadhu/Workbench/pycharm/epfl-adsml-c3-02/plots/plot_num_distro_21feats_4-of-4_20250723_185654_874.png"
      ],
      "text/html": [
       "<a href='/Users/ambikasadhu/Workbench/pycharm/epfl-adsml-c3-02/plots/plot_num_distro_21feats_4-of-4_20250723_185654_874.png' target='_blank'>/Users/ambikasadhu/Workbench/pycharm/epfl-adsml-c3-02/plots/plot_num_distro_21feats_4-of-4_20250723_185654_874.png</a><br>"
      ]
     },
     "metadata": {},
     "output_type": "display_data"
    }
   ],
   "execution_count": 25
  },
  {
   "metadata": {
    "ExecuteTime": {
     "end_time": "2025-07-23T09:20:16.848866Z",
     "start_time": "2025-07-23T09:20:16.197081Z"
    }
   },
   "cell_type": "code",
   "source": "pplots.plot_categorical_distribution(df_imputed_for_plots, cols_cat_nominal)",
   "id": "b0482db21836bfd3",
   "outputs": [
    {
     "name": "stdout",
     "output_type": "stream",
     "text": [
      "Saving figure to /Users/ambikasadhu/Workbench/pycharm/epfl-adsml-c3-02/plots/plot_cat_distro_17feats_20250723_192016_585.png\n"
     ]
    },
    {
     "data": {
      "text/plain": [
       "/Users/ambikasadhu/Workbench/pycharm/epfl-adsml-c3-02/plots/plot_cat_distro_17feats_20250723_192016_585.png"
      ],
      "text/html": [
       "<a href='/Users/ambikasadhu/Workbench/pycharm/epfl-adsml-c3-02/plots/plot_cat_distro_17feats_20250723_192016_585.png' target='_blank'>/Users/ambikasadhu/Workbench/pycharm/epfl-adsml-c3-02/plots/plot_cat_distro_17feats_20250723_192016_585.png</a><br>"
      ]
     },
     "metadata": {},
     "output_type": "display_data"
    }
   ],
   "execution_count": 26
  },
  {
   "metadata": {
    "ExecuteTime": {
     "end_time": "2025-07-23T09:21:04.873900Z",
     "start_time": "2025-07-23T09:21:04.418894Z"
    }
   },
   "cell_type": "code",
   "source": "pplots.plot_categorical_distribution(df_imputed_for_plots, cols_cat_ordinal)",
   "id": "5cc64fc1e5fa526",
   "outputs": [
    {
     "name": "stdout",
     "output_type": "stream",
     "text": [
      "Saving figure to /Users/ambikasadhu/Workbench/pycharm/epfl-adsml-c3-02/plots/plot_cat_distro_18feats_20250723_192104_625.png\n"
     ]
    },
    {
     "data": {
      "text/plain": [
       "/Users/ambikasadhu/Workbench/pycharm/epfl-adsml-c3-02/plots/plot_cat_distro_18feats_20250723_192104_625.png"
      ],
      "text/html": [
       "<a href='/Users/ambikasadhu/Workbench/pycharm/epfl-adsml-c3-02/plots/plot_cat_distro_18feats_20250723_192104_625.png' target='_blank'>/Users/ambikasadhu/Workbench/pycharm/epfl-adsml-c3-02/plots/plot_cat_distro_18feats_20250723_192104_625.png</a><br>"
      ]
     },
     "metadata": {},
     "output_type": "display_data"
    }
   ],
   "execution_count": 27
  },
  {
   "metadata": {
    "ExecuteTime": {
     "end_time": "2025-07-23T09:21:37.039631Z",
     "start_time": "2025-07-23T09:21:36.167503Z"
    }
   },
   "cell_type": "code",
   "source": "pplots.plot_relationship_to_target(df_imputed_for_plots, cols_num_discrete, target_col)",
   "id": "565be807881cf88d",
   "outputs": [
    {
     "ename": "KeyError",
     "evalue": "'SalePrice'",
     "output_type": "error",
     "traceback": [
      "\u001B[0;31m---------------------------------------------------------------------------\u001B[0m",
      "\u001B[0;31mKeyError\u001B[0m                                  Traceback (most recent call last)",
      "File \u001B[0;32m/opt/anaconda3/lib/python3.13/site-packages/pandas/core/indexes/base.py:3805\u001B[0m, in \u001B[0;36mIndex.get_loc\u001B[0;34m(self, key)\u001B[0m\n\u001B[1;32m   3804\u001B[0m \u001B[38;5;28;01mtry\u001B[39;00m:\n\u001B[0;32m-> 3805\u001B[0m     \u001B[38;5;28;01mreturn\u001B[39;00m \u001B[38;5;28mself\u001B[39m\u001B[38;5;241m.\u001B[39m_engine\u001B[38;5;241m.\u001B[39mget_loc(casted_key)\n\u001B[1;32m   3806\u001B[0m \u001B[38;5;28;01mexcept\u001B[39;00m \u001B[38;5;167;01mKeyError\u001B[39;00m \u001B[38;5;28;01mas\u001B[39;00m err:\n",
      "File \u001B[0;32mindex.pyx:167\u001B[0m, in \u001B[0;36mpandas._libs.index.IndexEngine.get_loc\u001B[0;34m()\u001B[0m\n",
      "File \u001B[0;32mindex.pyx:196\u001B[0m, in \u001B[0;36mpandas._libs.index.IndexEngine.get_loc\u001B[0;34m()\u001B[0m\n",
      "File \u001B[0;32mpandas/_libs/hashtable_class_helper.pxi:7081\u001B[0m, in \u001B[0;36mpandas._libs.hashtable.PyObjectHashTable.get_item\u001B[0;34m()\u001B[0m\n",
      "File \u001B[0;32mpandas/_libs/hashtable_class_helper.pxi:7089\u001B[0m, in \u001B[0;36mpandas._libs.hashtable.PyObjectHashTable.get_item\u001B[0;34m()\u001B[0m\n",
      "\u001B[0;31mKeyError\u001B[0m: 'SalePrice'",
      "\nThe above exception was the direct cause of the following exception:\n",
      "\u001B[0;31mKeyError\u001B[0m                                  Traceback (most recent call last)",
      "Cell \u001B[0;32mIn[28], line 1\u001B[0m\n\u001B[0;32m----> 1\u001B[0m pplots\u001B[38;5;241m.\u001B[39mplot_relationship_to_target(df_imputed_for_plots, cols_num_discrete, target_col)\n",
      "File \u001B[0;32m~/Workbench/pycharm/epfl-adsml-c3-02/proj_utils_plots.py:211\u001B[0m, in \u001B[0;36mplot_relationship_to_target\u001B[0;34m(df, features, target, trend_type)\u001B[0m\n\u001B[1;32m    207\u001B[0m axs \u001B[38;5;241m=\u001B[39m axs\u001B[38;5;241m.\u001B[39mravel()  \u001B[38;5;66;03m# Flatten the array for easier indexing\u001B[39;00m\n\u001B[1;32m    209\u001B[0m \u001B[38;5;28;01mfor\u001B[39;00m idx, feature \u001B[38;5;129;01min\u001B[39;00m \u001B[38;5;28menumerate\u001B[39m(features):\n\u001B[1;32m    210\u001B[0m     \u001B[38;5;66;03m# Group data by feature\u001B[39;00m\n\u001B[0;32m--> 211\u001B[0m     grouped_data \u001B[38;5;241m=\u001B[39m [group[target]\u001B[38;5;241m.\u001B[39mvalues \u001B[38;5;28;01mfor\u001B[39;00m name, group \u001B[38;5;129;01min\u001B[39;00m df\u001B[38;5;241m.\u001B[39mgroupby(feature)]\n\u001B[1;32m    213\u001B[0m     \u001B[38;5;66;03m# Create box plot\u001B[39;00m\n\u001B[1;32m    214\u001B[0m     axs[idx]\u001B[38;5;241m.\u001B[39mboxplot(\n\u001B[1;32m    215\u001B[0m         grouped_data,\n\u001B[1;32m    216\u001B[0m         patch_artist\u001B[38;5;241m=\u001B[39m\u001B[38;5;28;01mTrue\u001B[39;00m,\n\u001B[0;32m   (...)\u001B[0m\n\u001B[1;32m    235\u001B[0m         }\n\u001B[1;32m    236\u001B[0m     )\n",
      "File \u001B[0;32m/opt/anaconda3/lib/python3.13/site-packages/pandas/core/frame.py:4102\u001B[0m, in \u001B[0;36mDataFrame.__getitem__\u001B[0;34m(self, key)\u001B[0m\n\u001B[1;32m   4100\u001B[0m \u001B[38;5;28;01mif\u001B[39;00m \u001B[38;5;28mself\u001B[39m\u001B[38;5;241m.\u001B[39mcolumns\u001B[38;5;241m.\u001B[39mnlevels \u001B[38;5;241m>\u001B[39m \u001B[38;5;241m1\u001B[39m:\n\u001B[1;32m   4101\u001B[0m     \u001B[38;5;28;01mreturn\u001B[39;00m \u001B[38;5;28mself\u001B[39m\u001B[38;5;241m.\u001B[39m_getitem_multilevel(key)\n\u001B[0;32m-> 4102\u001B[0m indexer \u001B[38;5;241m=\u001B[39m \u001B[38;5;28mself\u001B[39m\u001B[38;5;241m.\u001B[39mcolumns\u001B[38;5;241m.\u001B[39mget_loc(key)\n\u001B[1;32m   4103\u001B[0m \u001B[38;5;28;01mif\u001B[39;00m is_integer(indexer):\n\u001B[1;32m   4104\u001B[0m     indexer \u001B[38;5;241m=\u001B[39m [indexer]\n",
      "File \u001B[0;32m/opt/anaconda3/lib/python3.13/site-packages/pandas/core/indexes/base.py:3812\u001B[0m, in \u001B[0;36mIndex.get_loc\u001B[0;34m(self, key)\u001B[0m\n\u001B[1;32m   3807\u001B[0m     \u001B[38;5;28;01mif\u001B[39;00m \u001B[38;5;28misinstance\u001B[39m(casted_key, \u001B[38;5;28mslice\u001B[39m) \u001B[38;5;129;01mor\u001B[39;00m (\n\u001B[1;32m   3808\u001B[0m         \u001B[38;5;28misinstance\u001B[39m(casted_key, abc\u001B[38;5;241m.\u001B[39mIterable)\n\u001B[1;32m   3809\u001B[0m         \u001B[38;5;129;01mand\u001B[39;00m \u001B[38;5;28many\u001B[39m(\u001B[38;5;28misinstance\u001B[39m(x, \u001B[38;5;28mslice\u001B[39m) \u001B[38;5;28;01mfor\u001B[39;00m x \u001B[38;5;129;01min\u001B[39;00m casted_key)\n\u001B[1;32m   3810\u001B[0m     ):\n\u001B[1;32m   3811\u001B[0m         \u001B[38;5;28;01mraise\u001B[39;00m InvalidIndexError(key)\n\u001B[0;32m-> 3812\u001B[0m     \u001B[38;5;28;01mraise\u001B[39;00m \u001B[38;5;167;01mKeyError\u001B[39;00m(key) \u001B[38;5;28;01mfrom\u001B[39;00m\u001B[38;5;250m \u001B[39m\u001B[38;5;21;01merr\u001B[39;00m\n\u001B[1;32m   3813\u001B[0m \u001B[38;5;28;01mexcept\u001B[39;00m \u001B[38;5;167;01mTypeError\u001B[39;00m:\n\u001B[1;32m   3814\u001B[0m     \u001B[38;5;66;03m# If we have a listlike key, _check_indexing_error will raise\u001B[39;00m\n\u001B[1;32m   3815\u001B[0m     \u001B[38;5;66;03m#  InvalidIndexError. Otherwise we fall through and re-raise\u001B[39;00m\n\u001B[1;32m   3816\u001B[0m     \u001B[38;5;66;03m#  the TypeError.\u001B[39;00m\n\u001B[1;32m   3817\u001B[0m     \u001B[38;5;28mself\u001B[39m\u001B[38;5;241m.\u001B[39m_check_indexing_error(key)\n",
      "\u001B[0;31mKeyError\u001B[0m: 'SalePrice'"
     ]
    },
    {
     "data": {
      "text/plain": [
       "<Figure size 2952x1476 with 12 Axes>"
      ],
      "image/png": "[encoded data removed]"
     },
     "metadata": {},
     "output_type": "display_data"
    }
   ],
   "execution_count": 28
  },
  {
   "metadata": {},
   "cell_type": "code",
   "source": "proj_utils_plots.plot_relationship_to_target(df_imputed_for_plots, cols_num_discrete, target_col, trend_type='median')",
   "id": "34e212dc79d02e14",
   "outputs": [],
   "execution_count": null
  },
  {
   "metadata": {},
   "cell_type": "code",
   "source": [
    "X_train, X_val, y_train, y_val = train_test_split(\n",
    "    df_train,\n",
    "    df_raw_target,\n",
    "    test_size=proj_configs.VALIDATION_SIZE,\n",
    "    random_state=proj_configs.RANDOM_STATE\n",
    ")"
   ],
   "id": "57651d20d7b35ba7",
   "outputs": [],
   "execution_count": null
  },
  {
   "metadata": {},
   "cell_type": "code",
   "source": "X_train.shape, y_train.shape, X_val.shape, y_val.shape",
   "id": "40539573c8a9ad71",
   "outputs": [],
   "execution_count": null
  },
  {
   "metadata": {},
   "cell_type": "code",
   "source": [
    "num_columns = cols_num_continuous\n",
    "cat_columns = cols_cat_nominal + cols_cat_ordinal + cols_num_discrete + cols_binary + cols_object\n",
    "tempo_columns = cols_temporal"
   ],
   "id": "26440addd4e93771",
   "outputs": [],
   "execution_count": null
  },
  {
   "metadata": {},
   "cell_type": "code",
   "source": "len(num_columns), len(cat_columns), len(tempo_columns)",
   "id": "1847e20decebb02e",
   "outputs": [],
   "execution_count": null
  },
  {
   "metadata": {},
   "cell_type": "code",
   "source": "pproc_pipe = proj_utils_feat_engg.create_pproc_pipeline(num_columns, cat_columns, tempo_columns)",
   "id": "8bf6e9c951bd6c76",
   "outputs": [],
   "execution_count": null
  },
  {
   "metadata": {},
   "cell_type": "code",
   "source": "",
   "id": "daa38382de0ade53",
   "outputs": [],
   "execution_count": null
  },
  {
   "metadata": {},
   "cell_type": "code",
   "source": [
    "# Login to mlflow\n",
    "# mlflow.login()\n",
    "# proj_utils_model.set_mlflow_uri(\"databricks\")\n",
    "# mlflow_experiment_name = f\"/Users/asheesh.ambardar@live.com/{proj_configs.PROJECT_NAME}\"\n",
    "# mlflow_experiment_id = proj_utils_model.get_or_create_experiment(mlflow_experiment_name)\n",
    "# proj_utils_model.set_mlflow_experiment(mlflow_experiment_name)\n",
    "# model_uri = mlflow.get_artifact_uri(artefact_path)\n",
    "# model_uri"
   ],
   "id": "179433c870506e32",
   "outputs": [],
   "execution_count": null
  },
  {
   "metadata": {},
   "cell_type": "code",
   "source": [
    "comet_experiment = comet_ml.Experiment()\n",
    "# comet_experiment.set_name(proj_configs.PROJECT_NAME)"
   ],
   "id": "fe076592ea14ce7a",
   "outputs": [],
   "execution_count": null
  },
  {
   "metadata": {},
   "cell_type": "code",
   "source": [
    "# Verify connection\n",
    "if comet_experiment.api_key:\n",
    "    print(\"Successfully connected to Comet ML!\")\n",
    "else:\n",
    "    print(\"Failed to connect to Comet ML\")\n"
   ],
   "id": "f8cdb11560d30c5d",
   "outputs": [],
   "execution_count": null
  },
  {
   "metadata": {},
   "cell_type": "code",
   "source": "",
   "id": "82f483bc1028840a",
   "outputs": [],
   "execution_count": null
  },
  {
   "metadata": {},
   "cell_type": "code",
   "source": "",
   "id": "19c88e6151c92703",
   "outputs": [],
   "execution_count": null
  },
  {
   "metadata": {},
   "cell_type": "code",
   "source": "",
   "id": "b35f48c37d77d9a1",
   "outputs": [],
   "execution_count": null
  },
  {
   "metadata": {},
   "cell_type": "code",
   "source": "",
   "id": "aab859eeded8821f",
   "outputs": [],
   "execution_count": null
  },
  {
   "metadata": {},
   "cell_type": "code",
   "source": "",
   "id": "49af076af4d9f832",
   "outputs": [],
   "execution_count": null
  },
  {
   "metadata": {},
   "cell_type": "code",
   "source": [
    "import warnings, logging\n",
    "from sklearn.exceptions import ConvergenceWarning\n",
    "warnings.filterwarnings('ignore', category=ConvergenceWarning)\n",
    "logging.getLogger(\"mlflow\").setLevel(logging.ERROR)"
   ],
   "id": "fc8e596f1be235",
   "outputs": [],
   "execution_count": null
  },
  {
   "metadata": {},
   "cell_type": "code",
   "source": "X_train_transformed = pproc_pipe.fit_transform(X_train)",
   "id": "39926242db7dc827",
   "outputs": [],
   "execution_count": null
  },
  {
   "metadata": {},
   "cell_type": "code",
   "source": "X_val_transformed = pproc_pipe.transform(X_val)",
   "id": "75e65af0987fae80",
   "outputs": [],
   "execution_count": null
  },
  {
   "metadata": {},
   "cell_type": "code",
   "source": [
    "y_train_transformed = y_train.to_numpy()\n",
    "y_val_transformed = y_val.to_numpy()"
   ],
   "id": "d0d39608468e826f",
   "outputs": [],
   "execution_count": null
  },
  {
   "metadata": {},
   "cell_type": "code",
   "source": [
    "# Check for both NaN and None\n",
    "has_nulls_or_nans = pd.isna(X_train_transformed).any()\n",
    "print(f\"Contains null or NaN values: {has_nulls_or_nans}\")"
   ],
   "id": "9169473752777ba1",
   "outputs": [],
   "execution_count": null
  },
  {
   "metadata": {},
   "cell_type": "code",
   "source": "type(y_val)",
   "id": "7bf1cfaa4dd9cdc1",
   "outputs": [],
   "execution_count": null
  },
  {
   "metadata": {},
   "cell_type": "code",
   "source": [
    "comet_experiment = comet_ml.Experiment()\n",
    "run_name='xgb-10'\n",
    "try:\n",
    "    optimised_study_xgb = proj_utils_model.run_hyperparam_tuning_xgb_exp(X_train_transformed, y_train_transformed, X_val_transformed, y_val_transformed, comet_experiment, run_name, proj_configs.OPTUNA_TRIAL_COUNT)\n",
    "finally:\n",
    "    comet_experiment.end()"
   ],
   "id": "7ccb415827288759",
   "outputs": [],
   "execution_count": null
  },
  {
   "metadata": {},
   "cell_type": "code",
   "source": "",
   "id": "e87c532874678e14",
   "outputs": [],
   "execution_count": null
  },
  {
   "metadata": {},
   "cell_type": "code",
   "source": "",
   "id": "107c89f0b327c6f",
   "outputs": [],
   "execution_count": null
  },
  {
   "metadata": {},
   "cell_type": "code",
   "source": "",
   "id": "58fd387356b54f49",
   "outputs": [],
   "execution_count": null
  },
  {
   "metadata": {},
   "cell_type": "code",
   "source": [
    "import os\n",
    "import pickle\n",
    "\n",
    "def safe_load_model(model_path):\n",
    "        try:\n",
    "            if not os.path.exists(model_path):\n",
    "                raise FileNotFoundError(f\"Model file not found at {model_path}\")\n",
    "\n",
    "            with open(model_path, 'rb') as f:\n",
    "                model = pickle.load(f)\n",
    "            return model\n",
    "        except (pickle.UnpicklingError, KeyError) as e:\n",
    "            print(f\"Error loading model: {str(e)}\")\n",
    "            print(\"This might be due to version mismatch or corrupted file\")\n",
    "            return None\n",
    "\n",
    "# Load the model\n",
    "model_path = f\"{proj_configs.PATH_OUT_MODELS}xgb_model.pkl\"\n",
    "loaded_model = safe_load_model(model_path)\n",
    "\n",
    "if loaded_model is not None:\n",
    "    print(\"Model loaded successfully\")"
   ],
   "id": "d50a7addf30bb5f3",
   "outputs": [],
   "execution_count": null
  },
  {
   "metadata": {},
   "cell_type": "code",
   "source": "loaded_model",
   "id": "e4cb153a38d097af",
   "outputs": [],
   "execution_count": null
  },
  {
   "metadata": {},
   "cell_type": "code",
   "source": "df_test = df_raw_all[df_raw_all['is_train']==0].iloc[:,:-1]",
   "id": "def8103b96c87508",
   "outputs": [],
   "execution_count": null
  },
  {
   "metadata": {},
   "cell_type": "code",
   "source": "df_test.sample(3)",
   "id": "a8565fbd09eb96f6",
   "outputs": [],
   "execution_count": null
  },
  {
   "metadata": {},
   "cell_type": "code",
   "source": [
    "data_test_transformed = pproc_pipe.transform(df_test)\n",
    "type(data_test_transformed)"
   ],
   "id": "238e2c79243696a1",
   "outputs": [],
   "execution_count": null
  },
  {
   "metadata": {},
   "cell_type": "code",
   "source": [
    "# Check for both NaN and None\n",
    "has_nulls_or_nans = pd.isna(data_test_transformed).any()\n",
    "print(f\"Contains null or NaN values: {has_nulls_or_nans}\")"
   ],
   "id": "3ee508e6c4787cd7",
   "outputs": [],
   "execution_count": null
  },
  {
   "metadata": {},
   "cell_type": "code",
   "source": [
    "data_train_transformed = pproc_pipe.transform(df_train)\n",
    "type(data_train_transformed)"
   ],
   "id": "f248860b1ad02e1e",
   "outputs": [],
   "execution_count": null
  },
  {
   "metadata": {},
   "cell_type": "code",
   "source": [
    "# Check for both NaN and None\n",
    "has_nulls_or_nans = pd.isna(data_train_transformed).any()\n",
    "print(f\"Contains null or NaN values: {has_nulls_or_nans}\")"
   ],
   "id": "1ec822cb82024ada",
   "outputs": [],
   "execution_count": null
  },
  {
   "metadata": {},
   "cell_type": "code",
   "source": "df_raw_target.shape",
   "id": "3b881d6ceea929c6",
   "outputs": [],
   "execution_count": null
  },
  {
   "metadata": {},
   "cell_type": "code",
   "source": "data_target = df_raw_target.to_numpy()",
   "id": "e21329d4d2c6ecd0",
   "outputs": [],
   "execution_count": null
  },
  {
   "metadata": {},
   "cell_type": "code",
   "source": "loaded_model.fit(data_train_transformed, data_target)",
   "id": "be9247fae05618e6",
   "outputs": [],
   "execution_count": null
  },
  {
   "metadata": {},
   "cell_type": "code",
   "source": [
    "train_preds = loaded_model.predict(data_train_transformed)\n",
    "train_actuals = data_target"
   ],
   "id": "8e369c283caeff2d",
   "outputs": [],
   "execution_count": null
  },
  {
   "metadata": {},
   "cell_type": "code",
   "source": "type(train_preds)",
   "id": "688bc632cc5fea1a",
   "outputs": [],
   "execution_count": null
  },
  {
   "metadata": {},
   "cell_type": "code",
   "source": [
    "# Evaluate the model\n",
    "train_mse = round(mean_squared_error(train_actuals, train_preds), 5)\n",
    "train_r2 = round(r2_score(train_actuals, train_preds), 5)\n",
    "\n",
    "print(\"=== Model Performance ===\")\n",
    "print(f\"Train MSE: {proj_utils_plots.beautify(train_mse)}, Train R2: {proj_utils_plots.beautify(train_r2)}\")"
   ],
   "id": "b8c7ae9eaa5ce6d",
   "outputs": [],
   "execution_count": null
  },
  {
   "metadata": {},
   "cell_type": "code",
   "source": "test_preds = loaded_model.predict(data_test_transformed)",
   "id": "3b9b0432f7f6176b",
   "outputs": [],
   "execution_count": null
  },
  {
   "metadata": {},
   "cell_type": "code",
   "source": "test_preds",
   "id": "359858a87b51c212",
   "outputs": [],
   "execution_count": null
  },
  {
   "metadata": {},
   "cell_type": "code",
   "source": [
    "df_my_submission = pd.DataFrame({'Id': df_raw_test.Id, 'SalePrice': test_preds})\n",
    "my_submission_file = f\"{proj_configs.PATH_OUT_SUBMISSIONS}submission.csv\"\n",
    "df_my_submission.to_csv(my_submission_file, index=False)"
   ],
   "id": "ace23632daf3e027",
   "outputs": [],
   "execution_count": null
  },
  {
   "metadata": {},
   "cell_type": "code",
   "source": "",
   "id": "19b99d11f56ec07f",
   "outputs": [],
   "execution_count": null
  },
  {
   "metadata": {},
   "cell_type": "code",
   "source": "",
   "id": "31dd1df29e5ced5",
   "outputs": [],
   "execution_count": null
  },
  {
   "metadata": {},
   "cell_type": "code",
   "source": "",
   "id": "482be93cb73a5911",
   "outputs": [],
   "execution_count": null
  },
  {
   "metadata": {},
   "cell_type": "code",
   "source": [
    "# this is a Trial object, not the underlying ML object.\n",
    "best_performing_trial = optimised_study_xgb.best_trial\n",
    "print(f'Best trial was at number {proj_utils_plots.beautify(str(best_performing_trial.number), 1)} with params as:\\n {proj_utils_plots.beautify(str(best_performing_trial.params), 2)}')\n",
    "print(f'Best score value is: {proj_utils_plots.beautify(str(best_performing_trial.value))}')"
   ],
   "id": "4a77b77c006c759a",
   "outputs": [],
   "execution_count": null
  },
  {
   "metadata": {},
   "cell_type": "code",
   "source": "best_performing_trial",
   "id": "31d846d4b65b7a22",
   "outputs": [],
   "execution_count": null
  },
  {
   "metadata": {},
   "cell_type": "code",
   "source": [
    "study_full_metrics = optimised_study_xgb.trials_dataframe()\n",
    "# save the metrics to a file\n",
    "proj_utils_model.save_hyperparams(f'full_metrics_{proj_utils.get_current_timestamp()}.csv', proj_configs.PATH_OUT_MODELS, study_full_metrics)\n",
    "\n",
    "# peek at the full metrics dataframe\n",
    "study_full_metrics"
   ],
   "id": "657b2c2f510cd79a",
   "outputs": [],
   "execution_count": null
  },
  {
   "metadata": {},
   "cell_type": "code",
   "source": [
    "# fetch number of trial runs per model type\n",
    "num_lr_trials = study_full_metrics[study_full_metrics['params_model'] == 'lr'].shape[0]\n",
    "num_lasso_trials = study_full_metrics[study_full_metrics['params_model'] == 'lasso'].shape[0]\n",
    "num_ridge_trials = study_full_metrics[study_full_metrics['params_model'] == 'ridge'].shape[0]\n",
    "num_elasticnet_trials = study_full_metrics[study_full_metrics['params_model'] == 'elasticnet'].shape[0]\n",
    "\n",
    "print(f'Total trials = {proj_utils_plots.beautify(str(num_lr_trials + num_lasso_trials + num_ridge_trials + num_elasticnet_trials), 1)}\\n-- LR trials = {proj_utils_plots.beautify(str(num_lr_trials), 1)}\\n-- Lasso trials = {proj_utils_plots.beautify(str(num_lasso_trials), 1)}\\n-- Ridge trials = {proj_utils_plots.beautify(str(num_ridge_trials), 1)}\\n-- ElasticNet trials = {proj_utils_plots.beautify(str(num_elasticnet_trials), 1)}')"
   ],
   "id": "2c629463bc37a59b",
   "outputs": [],
   "execution_count": null
  },
  {
   "metadata": {},
   "cell_type": "code",
   "source": [
    "# retrieve all performance values for each model type studied\n",
    "grp_by_model_type_val = study_full_metrics.groupby('params_model')['value'].apply(list)\n",
    "# retrieve the best performing model (use nsmallest if Optuna objective was to minimise,\n",
    "grp_by_model_type_best_val = study_full_metrics.groupby('params_model')['value'].nsmallest(1)\n",
    "# display the stats\n",
    "grp_by_model_type_best_val"
   ],
   "id": "455d563c4610f4d5",
   "outputs": [],
   "execution_count": null
  },
  {
   "metadata": {},
   "cell_type": "code",
   "source": [
    " # grouping Optuna metrics by model type and using idxmax (or idmin) method to find a row with the best model performance (value) for each group\n",
    "study_best_model_group = study_full_metrics.loc[study_full_metrics.groupby('params_model')['value'].idxmin()]"
   ],
   "id": "30208428b7d90d20",
   "outputs": [],
   "execution_count": null
  },
  {
   "metadata": {},
   "cell_type": "code",
   "source": "study_best_model_group",
   "id": "d2f168858eabbdf2",
   "outputs": [],
   "execution_count": null
  },
  {
   "metadata": {},
   "cell_type": "code",
   "source": [
    "# retrieve the trial number of the best model for each model type - the Optuna metrics dataframe index and trial number are the same.\n",
    "best_lr_trial = study_best_model_group[study_best_model_group['params_model'] == 'lr']['number'].values[0]\n",
    "best_lasso_trial = study_best_model_group[study_best_model_group['params_model'] == 'lasso']['number'].values[0]\n",
    "best_ridge_trial = study_best_model_group[study_best_model_group['params_model'] == 'ridge']['number'].values[0]\n",
    "best_elasticnet_trial = study_best_model_group[study_best_model_group['params_model'] == 'elasticnet']['number'].values[0]\n",
    "\n",
    "final_pipe_best_lr = models[best_lr_trial]\n",
    "best_model_lr = final_pipe_best_lr.named_steps['regressor']\n",
    "final_pipe_best_lasso = models[best_lasso_trial]\n",
    "best_model_lasso = final_pipe_best_lasso.named_steps['regressor']\n",
    "final_pipe_best_ridge = models[best_ridge_trial]\n",
    "best_model_ridge = final_pipe_best_ridge.named_steps['regressor']\n",
    "final_pipe_best_elasticnet = models[best_elasticnet_trial]\n",
    "best_model_elasticnet = final_pipe_best_elasticnet.named_steps['regressor']\n",
    "\n",
    "# retrieve the best model object (amongst all model types evaluated)\n",
    "final_pipe_best = models[best_performing_trial.number]\n",
    "best_model = final_pipe_best.named_steps['regressor']"
   ],
   "id": "6233d4364e331135",
   "outputs": [],
   "execution_count": null
  },
  {
   "metadata": {},
   "cell_type": "code",
   "source": "final_pipe_best",
   "id": "f7a2a5cb76f9512d",
   "outputs": [],
   "execution_count": null
  },
  {
   "metadata": {},
   "cell_type": "code",
   "source": "final_pipe_best.fit(X_train, y_train)",
   "id": "a7fc4a11b6e8b14e",
   "outputs": [],
   "execution_count": null
  },
  {
   "metadata": {},
   "cell_type": "code",
   "source": "cols_final_inputs, cols_final_output_features = proj_utils_feat_engg.get_final_features(final_pipe_best, X_train)",
   "id": "38d1696dc80f1fdb",
   "outputs": [],
   "execution_count": null
  },
  {
   "metadata": {},
   "cell_type": "code",
   "source": [
    "proj_utils_model.save_features(f'pproc_final_input_cols_{len(cols_final_inputs)}_{proj_utils.get_current_timestamp()}.csv', proj_configs.PATH_OUT_FEATURES, pd.DataFrame(cols_final_inputs))\n",
    "proj_utils_model.save_features(f'pproc_final_output_features_{len(cols_final_output_features)}_{proj_utils.get_current_timestamp()}.csv', proj_configs.PATH_OUT_FEATURES, pd.DataFrame(cols_final_output_features))"
   ],
   "id": "a22159b4cc78d7af",
   "outputs": [],
   "execution_count": null
  },
  {
   "metadata": {},
   "cell_type": "code",
   "source": "proj_utils_model.save_model(f'final_pipe_{proj_utils.get_current_timestamp()}.pkl', proj_configs.PATH_OUT_MODELS, final_pipe_best)",
   "id": "65b972ae40e6a624",
   "outputs": [],
   "execution_count": null
  },
  {
   "metadata": {},
   "cell_type": "code",
   "source": [
    "y_train_preds = final_pipe_best.predict(X_train)\n",
    "y_val_preds = final_pipe_best.predict(X_val)"
   ],
   "id": "bff38c8eaa4fe415",
   "outputs": [],
   "execution_count": null
  },
  {
   "metadata": {},
   "cell_type": "code",
   "source": [
    "# Evaluate the model\n",
    "train_mse = mean_squared_error(y_train, y_train_preds).round(5)\n",
    "val_mse = mean_squared_error(y_val, y_val_preds).round(5)\n",
    "train_r2 = r2_score(y_train, y_train_preds).round(5)\n",
    "val_r2 = r2_score(y_val, y_val_preds).round(5)\n",
    "\n",
    "print(\"=== Model Performance ===\")\n",
    "print(f\"Train MSE: {proj_utils_plots.beautify(train_mse)}, Train R2: {proj_utils_plots.beautify(train_r2)}\")\n",
    "print(f\"Validation MSE: {proj_utils_plots.beautify(val_mse)}, Validation R2: {proj_utils_plots.beautify(val_r2)}\")"
   ],
   "id": "36fce385b777a442",
   "outputs": [],
   "execution_count": null
  },
  {
   "metadata": {},
   "cell_type": "code",
   "source": [
    "string_to_log = f'=== Model Performance === \\n Train MSE: {train_mse}, Train R2: {train_r2} \\n Validation MSE: {val_mse}, Validation R2: {val_r2}'\n",
    "proj_utils.save_file('metrics', 'validation_metrics.txt', proj_configs.PATH_OUT_MODELS, string_to_log)"
   ],
   "id": "bcc70e6544b2a605",
   "outputs": [],
   "execution_count": null
  },
  {
   "metadata": {},
   "cell_type": "code",
   "source": "",
   "id": "d05ca7a227112434",
   "outputs": [],
   "execution_count": null
  }
 ],
 "metadata": {
  "kernelspec": {
   "display_name": "Python [conda env:base] *",
   "language": "python",
   "name": "conda-base-py"
  },
  "language_info": {
   "codemirror_mode": {
    "name": "ipython",
    "version": 2
   },
   "file_extension": ".py",
   "mimetype": "text/x-python",
   "name": "python",
   "nbconvert_exporter": "python",
   "pygments_lexer": "ipython2",
   "version": "2.7.6"
  }
 },
 "nbformat": 4,
 "nbformat_minor": 5
}
